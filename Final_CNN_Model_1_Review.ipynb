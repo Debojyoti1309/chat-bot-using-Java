{
  "nbformat": 4,
  "nbformat_minor": 0,
  "metadata": {
    "colab": {
      "provenance": [],
      "gpuType": "T4",
      "include_colab_link": true
    },
    "kernelspec": {
      "name": "python3",
      "display_name": "Python 3"
    },
    "language_info": {
      "name": "python"
    },
    "accelerator": "GPU"
  },
  "cells": [
    {
      "cell_type": "markdown",
      "metadata": {
        "id": "view-in-github",
        "colab_type": "text"
      },
      "source": [
        "<a href=\"https://colab.research.google.com/github/Debojyoti1309/chat-bot-using-Java/blob/main/Final_CNN_Model_1_Review.ipynb\" target=\"_parent\"><img src=\"https://colab.research.google.com/assets/colab-badge.svg\" alt=\"Open In Colab\"/></a>"
      ]
    },
    {
      "cell_type": "markdown",
      "source": [
        "# Brain Tumor Detection Model"
      ],
      "metadata": {
        "id": "oB5UpEqvfFl4"
      }
    },
    {
      "cell_type": "code",
      "source": [
        "from google.colab import drive\n",
        "drive.mount('/content/drive')"
      ],
      "metadata": {
        "id": "d0ZZVG2hukfa",
        "colab": {
          "base_uri": "https://localhost:8080/",
          "height": 0
        },
        "outputId": "759769bc-f363-4c6c-96a0-f340b9b463ed"
      },
      "execution_count": 11,
      "outputs": [
        {
          "output_type": "stream",
          "name": "stdout",
          "text": [
            "Drive already mounted at /content/drive; to attempt to forcibly remount, call drive.mount(\"/content/drive\", force_remount=True).\n"
          ]
        }
      ]
    },
    {
      "cell_type": "markdown",
      "source": [
        "#### Import Python Libraries"
      ],
      "metadata": {
        "id": "nfs46kulgEmM"
      }
    },
    {
      "cell_type": "code",
      "source": [
        "from sklearn.utils import shuffle\n",
        "from re import VERBOSE\n",
        "from keras.optimizers import Adam\n",
        "from keras.layers import Conv2D, MaxPooling2D, Activation, Dropout, Flatten, Dense\n",
        "import cv2\n",
        "import os\n",
        "import tensorflow as tf\n",
        "from tensorflow import keras\n",
        "from PIL import Image\n",
        "import numpy as np\n",
        "from sklearn.model_selection import train_test_split\n",
        "from keras.utils import normalize\n",
        "from keras.models import Sequential\n",
        "from keras.utils import to_categorical\n",
        "from keras.callbacks import History"
      ],
      "metadata": {
        "id": "av66CS4zfO7o"
      },
      "execution_count": 12,
      "outputs": []
    },
    {
      "cell_type": "markdown",
      "source": [
        "#### Load The dataset From Drive"
      ],
      "metadata": {
        "id": "XEfY8g_Efjwm"
      }
    },
    {
      "cell_type": "code",
      "source": [
        "image_directory = '/content/drive/MyDrive/brain tumour detection/datasets/'"
      ],
      "metadata": {
        "id": "HZR2vDn3fhIR"
      },
      "execution_count": 13,
      "outputs": []
    },
    {
      "cell_type": "markdown",
      "source": [
        "### Data Pre-Processing"
      ],
      "metadata": {
        "id": "5r07DX8zfr6H"
      }
    },
    {
      "cell_type": "code",
      "source": [
        "no_tumor_images = os.listdir(image_directory + 'no/')\n",
        "yes_tumor_images = os.listdir(image_directory + 'yes/')\n",
        "dataset = []\n",
        "label = []\n",
        "\n",
        "INPUT_SIZE = 64\n",
        "\n",
        "for i, image_name in enumerate(no_tumor_images):\n",
        "    if (image_name.split('.')[1] == 'jpg'):\n",
        "        image = cv2.imread(image_directory + 'no/' + image_name)\n",
        "        image = Image.fromarray(image, 'RGB')\n",
        "        image = image.resize((INPUT_SIZE, INPUT_SIZE))\n",
        "        dataset.append(np.array(image))\n",
        "        label.append(0)\n",
        "\n",
        "for i, image_name in enumerate(yes_tumor_images):\n",
        "    if (image_name.split('.')[1] == 'jpg'):\n",
        "        image = cv2.imread(image_directory + 'yes/' + image_name)\n",
        "        image = Image.fromarray(image, 'RGB')\n",
        "        image = image.resize((INPUT_SIZE, INPUT_SIZE))\n",
        "        dataset.append(np.array(image))\n",
        "        label.append(1)"
      ],
      "metadata": {
        "id": "hV5P-EzTf2N1"
      },
      "execution_count": 14,
      "outputs": []
    },
    {
      "cell_type": "markdown",
      "source": [
        "### Devide the dataset & Normalize the datasets for Fully Connected Layer"
      ],
      "metadata": {
        "id": "my0gYDpkhDE1"
      }
    },
    {
      "cell_type": "code",
      "source": [
        "dataset = np.array(dataset)\n",
        "label = np.array(label)\n",
        "\n",
        "x_train, x_test, y_train, y_test = train_test_split(dataset, label, test_size=0.2, random_state=0)\n",
        "\n",
        "x_train = normalize(x_train, axis=1)\n",
        "x_test = normalize(x_test, axis=1)\n",
        "\n",
        "y_train=to_categorical(y_train, num_classes=2)\n",
        "y_test=to_categorical(y_test, num_classes=2)"
      ],
      "metadata": {
        "id": "aezW3ogyhKYf"
      },
      "execution_count": 15,
      "outputs": []
    },
    {
      "cell_type": "markdown",
      "source": [
        "## CNN Model Architecture"
      ],
      "metadata": {
        "id": "G8DAPXQPf6Lf"
      }
    },
    {
      "cell_type": "code",
      "source": [
        "model = Sequential()\n",
        "\n",
        "model.add(Conv2D(32, (3, 3), input_shape=(INPUT_SIZE, INPUT_SIZE, 3)))\n",
        "model.add(Activation('relu'))\n",
        "model.add(MaxPooling2D(pool_size=(2, 2)))\n",
        "\n",
        "model.add(Conv2D(32, (3, 3), kernel_initializer='he_uniform'))\n",
        "model.add(Activation('relu'))\n",
        "model.add(MaxPooling2D(pool_size=(2, 2)))\n",
        "\n",
        "model.add(Conv2D(64, (3, 3), kernel_initializer='he_uniform'))\n",
        "model.add(Activation('relu'))\n",
        "model.add(MaxPooling2D(pool_size=(2, 2)))\n",
        "\n",
        "model.add(Flatten())\n",
        "model.add(Dense(64))\n",
        "model.add(Activation('relu'))\n",
        "model.add(Dropout(0.5))\n",
        "model.add(Dense(2))\n",
        "model.add(Activation('sigmoid'))"
      ],
      "metadata": {
        "id": "sIC0DeEwfMKs"
      },
      "execution_count": 16,
      "outputs": []
    },
    {
      "cell_type": "markdown",
      "source": [
        "### Model Compile and Save"
      ],
      "metadata": {
        "id": "i1htIR9Hhfd6"
      }
    },
    {
      "cell_type": "code",
      "source": [
        "model.compile(loss='binary_crossentropy', optimizer=Adam(), metrics=['accuracy'])\n",
        "\n",
        "model.fit(x_train, y_train, batch_size=16, verbose=1, epochs=10, validation_data=(x_test, y_test), shuffle=False)\n",
        "\n",
        "model.save('BrainTumour10Epochs.h5')"
      ],
      "metadata": {
        "id": "zAphuR3ThkSp",
        "colab": {
          "base_uri": "https://localhost:8080/",
          "height": 0
        },
        "outputId": "c33e96c6-ef04-4d15-ffbc-dc1a574ab517"
      },
      "execution_count": 17,
      "outputs": [
        {
          "output_type": "stream",
          "name": "stdout",
          "text": [
            "Epoch 1/10\n",
            "150/150 [==============================] - 3s 10ms/step - loss: 0.5467 - accuracy: 0.7354 - val_loss: 0.4308 - val_accuracy: 0.8233\n",
            "Epoch 2/10\n",
            "150/150 [==============================] - 1s 7ms/step - loss: 0.4086 - accuracy: 0.8304 - val_loss: 0.3112 - val_accuracy: 0.8550\n",
            "Epoch 3/10\n",
            "150/150 [==============================] - 1s 6ms/step - loss: 0.3161 - accuracy: 0.8721 - val_loss: 0.2454 - val_accuracy: 0.8750\n",
            "Epoch 4/10\n",
            "150/150 [==============================] - 1s 5ms/step - loss: 0.2281 - accuracy: 0.9108 - val_loss: 0.1727 - val_accuracy: 0.9267\n",
            "Epoch 5/10\n",
            "150/150 [==============================] - 1s 6ms/step - loss: 0.1549 - accuracy: 0.9463 - val_loss: 0.1291 - val_accuracy: 0.9417\n",
            "Epoch 6/10\n",
            "150/150 [==============================] - 1s 5ms/step - loss: 0.1065 - accuracy: 0.9667 - val_loss: 0.1003 - val_accuracy: 0.9583\n",
            "Epoch 7/10\n",
            "150/150 [==============================] - 1s 6ms/step - loss: 0.0769 - accuracy: 0.9737 - val_loss: 0.1054 - val_accuracy: 0.9667\n",
            "Epoch 8/10\n",
            "150/150 [==============================] - 1s 5ms/step - loss: 0.0525 - accuracy: 0.9825 - val_loss: 0.1326 - val_accuracy: 0.9667\n",
            "Epoch 9/10\n",
            "150/150 [==============================] - 1s 5ms/step - loss: 0.0324 - accuracy: 0.9929 - val_loss: 0.1007 - val_accuracy: 0.9717\n",
            "Epoch 10/10\n",
            "150/150 [==============================] - 1s 5ms/step - loss: 0.0243 - accuracy: 0.9933 - val_loss: 0.1273 - val_accuracy: 0.9683\n"
          ]
        }
      ]
    },
    {
      "cell_type": "markdown",
      "source": [
        "# Testing Model with Some Image data"
      ],
      "metadata": {
        "id": "ZlrDDhOMr3g-"
      }
    },
    {
      "cell_type": "markdown",
      "source": [
        "### Load the Model"
      ],
      "metadata": {
        "id": "Y_UNWca0sAk_"
      }
    },
    {
      "cell_type": "code",
      "source": [
        "import cv2\n",
        "from keras.models import load_model\n",
        "from PIL import Image\n",
        "import numpy as np\n",
        "\n",
        "# Load your trained model\n",
        "model = load_model('BrainTumour10Epochs.h5')"
      ],
      "metadata": {
        "id": "BVDIDNW803FS"
      },
      "execution_count": 26,
      "outputs": []
    },
    {
      "cell_type": "markdown",
      "source": [
        "### Make Predection"
      ],
      "metadata": {
        "id": "OIkoVjbo05wE"
      }
    },
    {
      "cell_type": "code",
      "source": [
        "# Load and preprocess the image\n",
        "image = cv2.imread('/content/drive/MyDrive/brain tumour detection/pred/pred59.jpg')\n",
        "img = Image.fromarray(image)\n",
        "img = img.resize((64, 64))\n",
        "img = np.array(img)\n",
        "input_img = np.expand_dims(img, axis=0)\n",
        "\n",
        "# Predict the class probabilities for the image\n",
        "class_probabilities = model.predict(input_img)\n",
        "\n",
        "# Find the class with the highest probability\n",
        "predicted_class = np.argmax(class_probabilities)\n",
        "\n",
        "# Print the predicted class\n",
        "print(\"Predicted Class:\", predicted_class)\n",
        "\n"
      ],
      "metadata": {
        "id": "yWGs2ACdr90X",
        "colab": {
          "base_uri": "https://localhost:8080/",
          "height": 0
        },
        "outputId": "0d613175-e16b-4596-d148-233a4583b8cc"
      },
      "execution_count": 25,
      "outputs": [
        {
          "output_type": "stream",
          "name": "stdout",
          "text": [
            "1/1 [==============================] - 0s 107ms/step\n",
            "Predicted Class: 0\n"
          ]
        }
      ]
    }
  ]
}